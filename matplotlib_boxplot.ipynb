{
  "nbformat": 4,
  "nbformat_minor": 0,
  "metadata": {
    "colab": {
      "name": "matplotlib_boxplot.ipynb",
      "version": "0.3.2",
      "provenance": [],
      "include_colab_link": true
    },
    "kernelspec": {
      "name": "python3",
      "display_name": "Python 3"
    }
  },
  "cells": [
    {
      "cell_type": "markdown",
      "metadata": {
        "id": "view-in-github",
        "colab_type": "text"
      },
      "source": [
        "<a href=\"https://colab.research.google.com/github/takashisuo/personal_work/blob/master/matplotlib_boxplot.ipynb\" target=\"_parent\"><img src=\"https://colab.research.google.com/assets/colab-badge.svg\" alt=\"Open In Colab\"/></a>"
      ]
    },
    {
      "metadata": {
        "id": "ME6bC9bFICR3",
        "colab_type": "code",
        "colab": {}
      },
      "cell_type": "code",
      "source": [
        "import matplotlib.pyplot as plt\n",
        "%matplotlib inline\n",
        "import numpy as np\n",
        "import pandas as pd\n",
        "\n",
        "def show_boxplot(data, xvar, title=\"\", ylabel=\"\"):\n",
        "    '''\n",
        "    data:   taple data\n",
        "    xvar:   array label data for each value name\n",
        "    title:  string\n",
        "    ylabel: string\n",
        "    '''\n",
        "    fig, ax = plt.subplots()\n",
        "    bp = ax.boxplot(data)\n",
        "    ax.set_xticklabels(xvar)\n",
        "    ax.set_ylabel(ylabel)\n",
        "    ax.set_title(title)\n",
        "\n",
        "    for y, i in zip(data, range(len(xvar))):\n",
        "        # \"jitter\" to the x-axis \n",
        "        x = np.random.normal(i+1, 0.05, size=len(y))\n",
        "        ax.plot(x, y, '.', color=\"C{}\".format(i))\n",
        "\n",
        "    ax.grid()\n",
        "    plt.show()\n",
        "\n",
        "data1 = np.random.normal(50, 10, 100)\n",
        "data1 = np.append(data1, 100)             # 外れ値\n",
        "data2 = np.random.normal(45, 15, 100)\n",
        "xvar = [\"data1\", \"data2\"]\n",
        "show_boxplot((data1, data2), xvar)"
      ],
      "execution_count": 0,
      "outputs": []
    }
  ]
}